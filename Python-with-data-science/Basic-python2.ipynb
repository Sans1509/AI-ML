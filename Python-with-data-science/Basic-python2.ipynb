{
 "cells": [
  {
   "cell_type": "code",
   "execution_count": 1,
   "id": "688e75a9",
   "metadata": {},
   "outputs": [],
   "source": [
    "# tuple immutable\n",
    "Ratings = (10,9,6,4,7,3,8)\n",
    "Ratingsorted = sorted(Ratings)"
   ]
  },
  {
   "cell_type": "code",
   "execution_count": 2,
   "id": "1b8b302e",
   "metadata": {},
   "outputs": [
    {
     "data": {
      "text/plain": [
       "[3, 4, 6, 7, 8, 9, 10]"
      ]
     },
     "execution_count": 2,
     "metadata": {},
     "output_type": "execute_result"
    }
   ],
   "source": [
    "Ratingsorted"
   ]
  },
  {
   "cell_type": "code",
   "execution_count": 3,
   "id": "ff75a828",
   "metadata": {},
   "outputs": [],
   "source": [
    "# tuple nesting\n",
    "NT = (1,2,(\"pop\",\"rock\"),(3,2),(\"disco\",(1,2)))"
   ]
  },
  {
   "cell_type": "code",
   "execution_count": 4,
   "id": "7269e342",
   "metadata": {},
   "outputs": [
    {
     "data": {
      "text/plain": [
       "'rock'"
      ]
     },
     "execution_count": 4,
     "metadata": {},
     "output_type": "execute_result"
    }
   ],
   "source": [
    "NT[2][1]"
   ]
  },
  {
   "cell_type": "code",
   "execution_count": 5,
   "id": "35e71f74",
   "metadata": {},
   "outputs": [],
   "source": [
    "#list\n",
    "L = ['disco','1','1.0']"
   ]
  },
  {
   "cell_type": "code",
   "execution_count": 6,
   "id": "758f83b0",
   "metadata": {},
   "outputs": [
    {
     "data": {
      "text/plain": [
       "'disco'"
      ]
     },
     "execution_count": 6,
     "metadata": {},
     "output_type": "execute_result"
    }
   ],
   "source": [
    "L[0]"
   ]
  },
  {
   "cell_type": "code",
   "execution_count": 7,
   "id": "20fbd606",
   "metadata": {},
   "outputs": [
    {
     "data": {
      "text/plain": [
       "['disco', '1', '1.0']"
      ]
     },
     "execution_count": 7,
     "metadata": {},
     "output_type": "execute_result"
    }
   ],
   "source": [
    "#list slicing\n",
    "L[0:3]"
   ]
  },
  {
   "cell_type": "code",
   "execution_count": 8,
   "id": "c195a17e",
   "metadata": {},
   "outputs": [
    {
     "data": {
      "text/plain": [
       "['disco']"
      ]
     },
     "execution_count": 8,
     "metadata": {},
     "output_type": "execute_result"
    }
   ],
   "source": [
    "L[0:1]"
   ]
  },
  {
   "cell_type": "code",
   "execution_count": 14,
   "id": "380e7403",
   "metadata": {},
   "outputs": [],
   "source": [
    "L.extend(['1982',\"65\"])"
   ]
  },
  {
   "cell_type": "code",
   "execution_count": 15,
   "id": "faecb6a5",
   "metadata": {},
   "outputs": [
    {
     "data": {
      "text/plain": [
       "['disco', '1', '1.0', '19822,67', ['pip', '1'], '1982', '65']"
      ]
     },
     "execution_count": 15,
     "metadata": {},
     "output_type": "execute_result"
    }
   ],
   "source": [
    "L"
   ]
  },
  {
   "cell_type": "code",
   "execution_count": 16,
   "id": "31c41e5d",
   "metadata": {},
   "outputs": [],
   "source": [
    "L.append(['pip','1'])"
   ]
  },
  {
   "cell_type": "code",
   "execution_count": 17,
   "id": "6e4a23bc",
   "metadata": {},
   "outputs": [
    {
     "data": {
      "text/plain": [
       "['disco', '1', '1.0', '19822,67', ['pip', '1'], '1982', '65', ['pip', '1']]"
      ]
     },
     "execution_count": 17,
     "metadata": {},
     "output_type": "execute_result"
    }
   ],
   "source": [
    "L"
   ]
  },
  {
   "cell_type": "code",
   "execution_count": 18,
   "id": "a0dd6457",
   "metadata": {},
   "outputs": [
    {
     "data": {
      "text/plain": [
       "8"
      ]
     },
     "execution_count": 18,
     "metadata": {},
     "output_type": "execute_result"
    }
   ],
   "source": [
    "len(L)"
   ]
  },
  {
   "cell_type": "code",
   "execution_count": 19,
   "id": "1df6a6d7",
   "metadata": {},
   "outputs": [],
   "source": [
    "L.append(\"A\")"
   ]
  },
  {
   "cell_type": "code",
   "execution_count": 20,
   "id": "d6a2a056",
   "metadata": {},
   "outputs": [
    {
     "data": {
      "text/plain": [
       "['disco',\n",
       " '1',\n",
       " '1.0',\n",
       " '19822,67',\n",
       " ['pip', '1'],\n",
       " '1982',\n",
       " '65',\n",
       " ['pip', '1'],\n",
       " 'A']"
      ]
     },
     "execution_count": 20,
     "metadata": {},
     "output_type": "execute_result"
    }
   ],
   "source": [
    "L"
   ]
  },
  {
   "cell_type": "code",
   "execution_count": 21,
   "id": "fe43e30d",
   "metadata": {},
   "outputs": [],
   "source": [
    "del(L[2])"
   ]
  },
  {
   "cell_type": "code",
   "execution_count": 22,
   "id": "3947d94b",
   "metadata": {},
   "outputs": [
    {
     "data": {
      "text/plain": [
       "['disco', '1', '19822,67', ['pip', '1'], '1982', '65', ['pip', '1'], 'A']"
      ]
     },
     "execution_count": 22,
     "metadata": {},
     "output_type": "execute_result"
    }
   ],
   "source": [
    "L"
   ]
  },
  {
   "cell_type": "code",
   "execution_count": 24,
   "id": "874a7113",
   "metadata": {},
   "outputs": [],
   "source": [
    "Test = \"A,B,C,D\""
   ]
  },
  {
   "cell_type": "code",
   "execution_count": 25,
   "id": "98982a2b",
   "metadata": {},
   "outputs": [
    {
     "data": {
      "text/plain": [
       "['A', 'B', 'C', 'D']"
      ]
     },
     "execution_count": 25,
     "metadata": {},
     "output_type": "execute_result"
    }
   ],
   "source": [
    "Test.split(\",\")"
   ]
  },
  {
   "cell_type": "code",
   "execution_count": 26,
   "id": "83ca8eb5",
   "metadata": {},
   "outputs": [],
   "source": [
    "A = (0,1,2,3)"
   ]
  },
  {
   "cell_type": "code",
   "execution_count": 27,
   "id": "c4f8efff",
   "metadata": {},
   "outputs": [
    {
     "data": {
      "text/plain": [
       "3"
      ]
     },
     "execution_count": 27,
     "metadata": {},
     "output_type": "execute_result"
    }
   ],
   "source": [
    "A[3]"
   ]
  },
  {
   "cell_type": "code",
   "execution_count": 28,
   "id": "d158a532",
   "metadata": {},
   "outputs": [
    {
     "data": {
      "text/plain": [
       "3"
      ]
     },
     "execution_count": 28,
     "metadata": {},
     "output_type": "execute_result"
    }
   ],
   "source": [
    "A[-1]"
   ]
  },
  {
   "cell_type": "code",
   "execution_count": 30,
   "id": "29d0f8f3",
   "metadata": {},
   "outputs": [],
   "source": [
    "B = [\"a\",\"b\",\"c\"]"
   ]
  },
  {
   "cell_type": "code",
   "execution_count": 31,
   "id": "02f6a35a",
   "metadata": {},
   "outputs": [
    {
     "data": {
      "text/plain": [
       "['b', 'c']"
      ]
     },
     "execution_count": 31,
     "metadata": {},
     "output_type": "execute_result"
    }
   ],
   "source": [
    "B[1:]"
   ]
  },
  {
   "cell_type": "code",
   "execution_count": 32,
   "id": "34a51a62",
   "metadata": {},
   "outputs": [],
   "source": [
    "#Set\n",
    "list = [\"67\",\"4\",\"87\",\"hi\"]\n",
    "new_set = set(list)"
   ]
  },
  {
   "cell_type": "code",
   "execution_count": 33,
   "id": "ae501594",
   "metadata": {},
   "outputs": [
    {
     "data": {
      "text/plain": [
       "{'4', '67', '87', 'hi'}"
      ]
     },
     "execution_count": 33,
     "metadata": {},
     "output_type": "execute_result"
    }
   ],
   "source": [
    "new_set"
   ]
  },
  {
   "cell_type": "code",
   "execution_count": 34,
   "id": "c2aaacf9",
   "metadata": {},
   "outputs": [],
   "source": [
    "new_set.add(\"ME\")"
   ]
  },
  {
   "cell_type": "code",
   "execution_count": 35,
   "id": "cc139b3d",
   "metadata": {},
   "outputs": [
    {
     "data": {
      "text/plain": [
       "{'4', '67', '87', 'ME', 'hi'}"
      ]
     },
     "execution_count": 35,
     "metadata": {},
     "output_type": "execute_result"
    }
   ],
   "source": [
    "new_set"
   ]
  },
  {
   "cell_type": "code",
   "execution_count": 36,
   "id": "f6f55ba3",
   "metadata": {},
   "outputs": [],
   "source": [
    "new_set.remove(\"ME\")"
   ]
  },
  {
   "cell_type": "code",
   "execution_count": 37,
   "id": "c6cf255e",
   "metadata": {},
   "outputs": [
    {
     "data": {
      "text/plain": [
       "{'4', '67', '87', 'hi'}"
      ]
     },
     "execution_count": 37,
     "metadata": {},
     "output_type": "execute_result"
    }
   ],
   "source": [
    "new_set"
   ]
  },
  {
   "cell_type": "code",
   "execution_count": 38,
   "id": "afc69f4a",
   "metadata": {},
   "outputs": [
    {
     "data": {
      "text/plain": [
       "False"
      ]
     },
     "execution_count": 38,
     "metadata": {},
     "output_type": "execute_result"
    }
   ],
   "source": [
    "\"ME\" in new_set"
   ]
  },
  {
   "cell_type": "code",
   "execution_count": 39,
   "id": "b21bce64",
   "metadata": {},
   "outputs": [],
   "source": [
    "new_set2 = {'4','87','h','f'}"
   ]
  },
  {
   "cell_type": "code",
   "execution_count": 41,
   "id": "6084b4a6",
   "metadata": {},
   "outputs": [
    {
     "data": {
      "text/plain": [
       "{'4', '87'}"
      ]
     },
     "execution_count": 41,
     "metadata": {},
     "output_type": "execute_result"
    }
   ],
   "source": [
    "new_set & new_set2"
   ]
  },
  {
   "cell_type": "code",
   "execution_count": 42,
   "id": "dd16a849",
   "metadata": {},
   "outputs": [
    {
     "data": {
      "text/plain": [
       "{'4', '67', '87', 'f', 'h', 'hi'}"
      ]
     },
     "execution_count": 42,
     "metadata": {},
     "output_type": "execute_result"
    }
   ],
   "source": [
    "union = new_set.union(new_set2)\n",
    "union"
   ]
  },
  {
   "cell_type": "code",
   "execution_count": 43,
   "id": "3bcfa374",
   "metadata": {},
   "outputs": [],
   "source": [
    "#Dictionary\n",
    "\n",
    "\n",
    "D = {'a':0,'b':1,'c':2} "
   ]
  },
  {
   "cell_type": "code",
   "execution_count": 44,
   "id": "1221cda1",
   "metadata": {},
   "outputs": [
    {
     "data": {
      "text/plain": [
       "dict_values([0, 1, 2])"
      ]
     },
     "execution_count": 44,
     "metadata": {},
     "output_type": "execute_result"
    }
   ],
   "source": [
    "D.values()"
   ]
  },
  {
   "cell_type": "code",
   "execution_count": 45,
   "id": "0ce430ad",
   "metadata": {},
   "outputs": [
    {
     "data": {
      "text/plain": [
       "1"
      ]
     },
     "execution_count": 45,
     "metadata": {},
     "output_type": "execute_result"
    }
   ],
   "source": [
    "D['b']"
   ]
  },
  {
   "cell_type": "code",
   "execution_count": 46,
   "id": "5d09a104",
   "metadata": {},
   "outputs": [],
   "source": [
    "Dict={\"A\":1,\"B\":\"2\",\"C\":[3,3,3],\"D\":(4,4,4),'E':5,'F':6}"
   ]
  },
  {
   "cell_type": "code",
   "execution_count": 47,
   "id": "c41e01db",
   "metadata": {},
   "outputs": [
    {
     "data": {
      "text/plain": [
       "(4, 4, 4)"
      ]
     },
     "execution_count": 47,
     "metadata": {},
     "output_type": "execute_result"
    }
   ],
   "source": [
    "Dict[\"D\"]"
   ]
  },
  {
   "cell_type": "code",
   "execution_count": 48,
   "id": "323f9411",
   "metadata": {},
   "outputs": [
    {
     "data": {
      "text/plain": [
       "True"
      ]
     },
     "execution_count": 48,
     "metadata": {},
     "output_type": "execute_result"
    }
   ],
   "source": [
    "#comparsion operator\n",
    "a=6\n",
    "a==6"
   ]
  },
  {
   "cell_type": "code",
   "execution_count": 49,
   "id": "8b56956e",
   "metadata": {},
   "outputs": [
    {
     "data": {
      "text/plain": [
       "True"
      ]
     },
     "execution_count": 49,
     "metadata": {},
     "output_type": "execute_result"
    }
   ],
   "source": [
    "i = 5\n",
    "i<10"
   ]
  },
  {
   "cell_type": "code",
   "execution_count": 50,
   "id": "5e79f391",
   "metadata": {},
   "outputs": [
    {
     "data": {
      "text/plain": [
       "False"
      ]
     },
     "execution_count": 50,
     "metadata": {},
     "output_type": "execute_result"
    }
   ],
   "source": [
    "\"hi\"==\"ME\""
   ]
  },
  {
   "cell_type": "code",
   "execution_count": 52,
   "id": "1e39a2f3",
   "metadata": {},
   "outputs": [
    {
     "name": "stdout",
     "output_type": "stream",
     "text": [
      "Enter the age6\n",
      "you cannot enter\n"
     ]
    }
   ],
   "source": [
    "#if-else\n",
    "age = int(input(\"Enter the age\"))\n",
    "if age>=18:\n",
    "    print(\"you can enter\")\n",
    "else:\n",
    "    print(\"you cannot enter\")"
   ]
  },
  {
   "cell_type": "code",
   "execution_count": 54,
   "id": "07ce30fb",
   "metadata": {},
   "outputs": [
    {
     "name": "stdout",
     "output_type": "stream",
     "text": [
      "Enter a number56\n",
      "Enter ACDC concert\n"
     ]
    }
   ],
   "source": [
    "age = int(input(\"Enter a number\"))\n",
    "if age>18:\n",
    "    print(\"Enter ACDC concert\")\n",
    "elif age == 18:\n",
    "    print(\"Attend Pink Floyd\")\n",
    "else:\n",
    "    print(\"move on\")"
   ]
  },
  {
   "cell_type": "code",
   "execution_count": 55,
   "id": "69c79c66",
   "metadata": {},
   "outputs": [
    {
     "name": "stdout",
     "output_type": "stream",
     "text": [
      "Enter the year1845\n",
      "Made in 90's\n"
     ]
    }
   ],
   "source": [
    "# logical operators\n",
    "year = int(input(\"Enter the year\"))\n",
    "if year<1980 or year>1989:\n",
    "    print(\"Made in 90's\")\n",
    "else:\n",
    "    print(\"Made in 80's\")"
   ]
  },
  {
   "cell_type": "code",
   "execution_count": 59,
   "id": "da6db481",
   "metadata": {},
   "outputs": [
    {
     "data": {
      "text/plain": [
       "['white', 'white', 'white', 'white', 'white']"
      ]
     },
     "execution_count": 59,
     "metadata": {},
     "output_type": "execute_result"
    }
   ],
   "source": [
    "#loops\n",
    "square = ['1','2','4','7','8']\n",
    "for index in range(0,5):\n",
    "    square[index]=\"white\"\n",
    "square"
   ]
  },
  {
   "cell_type": "code",
   "execution_count": 66,
   "id": "c68f5b22",
   "metadata": {},
   "outputs": [
    {
     "data": {
      "text/plain": [
       "['green']"
      ]
     },
     "execution_count": 66,
     "metadata": {},
     "output_type": "execute_result"
    }
   ],
   "source": [
    "square = [\"green\",\"blue\",\"orange\",\"green\"]\n",
    "Newsquare = []\n",
    "i = 0\n",
    "while square[i]==\"green\":\n",
    "    Newsquare.append(square[i])\n",
    "    i=i+1\n",
    "Newsquare"
   ]
  },
  {
   "cell_type": "code",
   "execution_count": 68,
   "id": "85fc929b",
   "metadata": {},
   "outputs": [
    {
     "name": "stdout",
     "output_type": "stream",
     "text": [
      "3\n",
      "4\n",
      "5\n"
     ]
    }
   ],
   "source": [
    "\n",
    "\n",
    "A=[3,4,5]\n",
    "\n",
    "for a in A:\n",
    "    print(a)\n"
   ]
  },
  {
   "cell_type": "code",
   "execution_count": 69,
   "id": "1daaa45c",
   "metadata": {},
   "outputs": [
    {
     "name": "stdout",
     "output_type": "stream",
     "text": [
      "1\n",
      "2\n"
     ]
    }
   ],
   "source": [
    "\n",
    "\n",
    "x=3\n",
    "\n",
    "y=1\n",
    "\n",
    "while(y!=x):\n",
    "    print(y)\n",
    "    y=y+1\n"
   ]
  },
  {
   "cell_type": "code",
   "execution_count": 73,
   "id": "4bfeb3fb",
   "metadata": {},
   "outputs": [
    {
     "data": {
      "text/plain": [
       "5"
      ]
     },
     "execution_count": 73,
     "metadata": {},
     "output_type": "execute_result"
    }
   ],
   "source": [
    "#functions\n",
    "square = ['1','2','4','7','8']\n",
    "len(square)"
   ]
  },
  {
   "cell_type": "code",
   "execution_count": 76,
   "id": "bbacdbb1",
   "metadata": {},
   "outputs": [
    {
     "data": {
      "text/plain": [
       "19"
      ]
     },
     "execution_count": 76,
     "metadata": {},
     "output_type": "execute_result"
    }
   ],
   "source": [
    "square = [10,2,3,4]\n",
    "S = sum(square)\n",
    "S\n"
   ]
  },
  {
   "cell_type": "code",
   "execution_count": 80,
   "id": "2b9f35b6",
   "metadata": {},
   "outputs": [
    {
     "data": {
      "text/plain": [
       "[2, 3, 4, 10]"
      ]
     },
     "execution_count": 80,
     "metadata": {},
     "output_type": "execute_result"
    }
   ],
   "source": [
    "sort = sorted(square)\n",
    "sort"
   ]
  },
  {
   "cell_type": "code",
   "execution_count": 81,
   "id": "77e7db51",
   "metadata": {},
   "outputs": [
    {
     "data": {
      "text/plain": [
       "6"
      ]
     },
     "execution_count": 81,
     "metadata": {},
     "output_type": "execute_result"
    }
   ],
   "source": [
    "def add(a):\n",
    "    b=a+1\n",
    "    return b\n",
    "add(5)"
   ]
  },
  {
   "cell_type": "code",
   "execution_count": 82,
   "id": "0ffa5854",
   "metadata": {},
   "outputs": [
    {
     "data": {
      "text/plain": [
       "12"
      ]
     },
     "execution_count": 82,
     "metadata": {},
     "output_type": "execute_result"
    }
   ],
   "source": [
    "add(11)"
   ]
  },
  {
   "cell_type": "code",
   "execution_count": 83,
   "id": "f51bc8e1",
   "metadata": {},
   "outputs": [
    {
     "data": {
      "text/plain": [
       "16"
      ]
     },
     "execution_count": 83,
     "metadata": {},
     "output_type": "execute_result"
    }
   ],
   "source": [
    "def multiply(a,b):\n",
    "    c = a*b\n",
    "    return c\n",
    "multiply(4,4)"
   ]
  },
  {
   "cell_type": "code",
   "execution_count": 85,
   "id": "0e7bb8d1",
   "metadata": {},
   "outputs": [
    {
     "data": {
      "text/plain": [
       "'HiHi'"
      ]
     },
     "execution_count": 85,
     "metadata": {},
     "output_type": "execute_result"
    }
   ],
   "source": [
    "multiply(2,\"Hi\")"
   ]
  },
  {
   "cell_type": "code",
   "execution_count": 86,
   "id": "ccb930bd",
   "metadata": {},
   "outputs": [
    {
     "name": "stdout",
     "output_type": "stream",
     "text": [
      "None\n"
     ]
    }
   ],
   "source": [
    "def NoWork():\n",
    "    pass\n",
    "print(NoWork())"
   ]
  },
  {
   "cell_type": "code",
   "execution_count": 89,
   "id": "a893e8f2",
   "metadata": {},
   "outputs": [
    {
     "data": {
      "text/plain": [
       "11"
      ]
     },
     "execution_count": 89,
     "metadata": {},
     "output_type": "execute_result"
    }
   ],
   "source": [
    "\n",
    "\n",
    "a=1\n",
    "\n",
    "def add(b):\n",
    "    return a+b\n",
    "\n",
    "c=add(10)\n",
    "c"
   ]
  },
  {
   "cell_type": "code",
   "execution_count": 94,
   "id": "7bdbe656",
   "metadata": {},
   "outputs": [
    {
     "name": "stdout",
     "output_type": "stream",
     "text": [
      "Hi\n",
      "Mike\n"
     ]
    }
   ],
   "source": [
    "\n",
    "\n",
    "x=1\n",
    "\n",
    "if(x!=1):\n",
    "    print('Hello')\n",
    "\n",
    "else:\n",
    "    print('Hi')\n",
    "\n",
    "print('Mike')\n"
   ]
  },
  {
   "cell_type": "code",
   "execution_count": 95,
   "id": "1404b460",
   "metadata": {},
   "outputs": [
    {
     "name": "stdout",
     "output_type": "stream",
     "text": [
      "11\n",
      "22\n",
      "33\n"
     ]
    }
   ],
   "source": [
    "\n",
    "\n",
    "A = ['1','2','3']\n",
    "\n",
    "for a in A:\n",
    "    print(2*a)\n"
   ]
  },
  {
   "cell_type": "code",
   "execution_count": 100,
   "id": "eb1f847c",
   "metadata": {},
   "outputs": [],
   "source": [
    "\n",
    "\n",
    "def Delta(x):\n",
    "    if x==0:\n",
    "        y=1;\n",
    "\n",
    "    else:\n",
    "        y=0;\n",
    "\n",
    "    return(y)\n"
   ]
  },
  {
   "cell_type": "code",
   "execution_count": null,
   "id": "8606e9e9",
   "metadata": {},
   "outputs": [],
   "source": []
  },
  {
   "cell_type": "code",
   "execution_count": null,
   "id": "fe43ad05",
   "metadata": {},
   "outputs": [],
   "source": []
  }
 ],
 "metadata": {
  "kernelspec": {
   "display_name": "Python 3 (ipykernel)",
   "language": "python",
   "name": "python3"
  },
  "language_info": {
   "codemirror_mode": {
    "name": "ipython",
    "version": 3
   },
   "file_extension": ".py",
   "mimetype": "text/x-python",
   "name": "python",
   "nbconvert_exporter": "python",
   "pygments_lexer": "ipython3",
   "version": "3.8.10"
  }
 },
 "nbformat": 4,
 "nbformat_minor": 5
}
