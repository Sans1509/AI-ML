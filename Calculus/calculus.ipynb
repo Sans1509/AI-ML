{
 "cells": [
  {
   "cell_type": "code",
   "execution_count": 2,
   "metadata": {},
   "outputs": [
    {
     "name": "stdout",
     "output_type": "stream",
     "text": [
      "6.000100000012054\n",
      "6\n"
     ]
    }
   ],
   "source": [
    "#Derivative\n",
    "\n",
    "def get_derivative(func, x):\n",
    "    \n",
    "    h = 0.0001                          \n",
    "    return (func(x+h) - func(x)) / h    \n",
    "\n",
    "def f(x): \n",
    "    return x**2                   \n",
    "x = 3  \n",
    "\n",
    "computed = get_derivative(f, x)\n",
    "actual = 2*x\n",
    "\n",
    "print(computed)\n",
    "print(actual)"
   ]
  },
  {
   "cell_type": "code",
   "execution_count": 7,
   "metadata": {},
   "outputs": [
    {
     "name": "stdout",
     "output_type": "stream",
     "text": [
      "8.666266670004893\n",
      "8.666666666666666\n"
     ]
    }
   ],
   "source": [
    "#Integral\n",
    "\n",
    "def get_integral(func,a,b):\n",
    "    h = 0.0001\n",
    "    x = a\n",
    "    total = 0\n",
    "    while x <= b:\n",
    "        total += h * func(x)\n",
    "        x += h\n",
    "    return total\n",
    "\n",
    "def func(x):\n",
    "    return x**2\n",
    "\n",
    "computed = get_integral(func,1,3)\n",
    "\n",
    "def actualf(x):\n",
    "    return x**3/3\n",
    "\n",
    "actual = actualf(3) - actualf(1)\n",
    "\n",
    "print(computed)\n",
    "print(actual)\n"
   ]
  },
  {
   "cell_type": "code",
   "execution_count": null,
   "metadata": {},
   "outputs": [],
   "source": []
  }
 ],
 "metadata": {
  "kernelspec": {
   "display_name": "Python 3 (ipykernel)",
   "language": "python",
   "name": "python3"
  },
  "language_info": {
   "codemirror_mode": {
    "name": "ipython",
    "version": 3
   },
   "file_extension": ".py",
   "mimetype": "text/x-python",
   "name": "python",
   "nbconvert_exporter": "python",
   "pygments_lexer": "ipython3",
   "version": "3.8.10"
  }
 },
 "nbformat": 4,
 "nbformat_minor": 2
}
