{
 "cells": [
  {
   "cell_type": "code",
   "execution_count": 2,
   "id": "58683bd0",
   "metadata": {},
   "outputs": [
    {
     "name": "stdout",
     "output_type": "stream",
     "text": [
      "Euclidean Distance: 3.7416573867739413\n"
     ]
    }
   ],
   "source": [
    "#euclidean distance\n",
    "\n",
    "import math\n",
    "def euclidean(setA, setB):\n",
    "    distance = 0\n",
    "    for a, b in zip(setA, setB):\n",
    "        distance += (sum([(pow((a-b),2))]))\n",
    "    return math.sqrt(distance)\n",
    "print(\"Euclidean Distance:\",euclidean([1,3,4,1],[3,2,1,1]))"
   ]
  },
  {
   "cell_type": "code",
   "execution_count": 3,
   "id": "a196efa1",
   "metadata": {},
   "outputs": [
    {
     "name": "stdout",
     "output_type": "stream",
     "text": [
      "Manhattan Distance: 6\n"
     ]
    }
   ],
   "source": [
    "#manhattan distance\n",
    "\n",
    "def manhattan(setA, setB):\n",
    "    distance=0\n",
    "    for a,b in zip(setA,setB):\n",
    "        distance += sum([abs(a-b)])\n",
    "    return distance\n",
    "print(\"Manhattan Distance:\",manhattan([1,3,4,1],[3,2,1,1]))"
   ]
  },
  {
   "cell_type": "code",
   "execution_count": 5,
   "id": "8d2d5652",
   "metadata": {},
   "outputs": [
    {
     "name": "stdout",
     "output_type": "stream",
     "text": [
      "Chebyshev Distance: 3\n"
     ]
    }
   ],
   "source": [
    "#chebyshev distance\n",
    "\n",
    "def chebyshev(setA,setB):\n",
    "    distance = []\n",
    "    for a,b in zip(setA,setB):\n",
    "        distance.append(abs(a-b))\n",
    "    return max(distance)\n",
    "print(\"Chebyshev Distance:\",chebyshev([1,3,4,1],[3,2,1,1]))"
   ]
  },
  {
   "cell_type": "code",
   "execution_count": 6,
   "id": "0f77e244",
   "metadata": {},
   "outputs": [
    {
     "name": "stdout",
     "output_type": "stream",
     "text": [
      "Hamming Distance: 2\n"
     ]
    }
   ],
   "source": [
    "#hamming distance\n",
    "\n",
    "\n",
    "def hamming(setA,setB):\n",
    "    distance = 0\n",
    "    for a,b in zip(setA,setB):\n",
    "        if a != b:\n",
    "            distance += 1\n",
    "    return distance\n",
    "print(\"Hamming Distance:\",hamming(\"hello world\",\"hallo warld\"))"
   ]
  },
  {
   "cell_type": "code",
   "execution_count": 13,
   "id": "a59bcc0a",
   "metadata": {},
   "outputs": [
    {
     "name": "stdout",
     "output_type": "stream",
     "text": [
      "Cosine Similarity: 0.7\n"
     ]
    }
   ],
   "source": [
    "#cosine similarity\n",
    "\n",
    "def cosine_similarity(setA,setB):\n",
    "    numerator = 0\n",
    "    sum_x = 0\n",
    "    sum_y = 0\n",
    "    for a,b in zip(setA,setB):\n",
    "        numerator += sum([a * b])\n",
    "        sum_x += sum([a**2])\n",
    "        sum_y += sum([b**2])\n",
    "    denominator = round(math.sqrt(sum_x) * math.sqrt(sum_y))\n",
    "    return numerator / denominator\n",
    "print(\"Cosine Similarity:\", cosine_similarity([1,3,4,1],[3,2,1,1]))"
   ]
  },
  {
   "cell_type": "code",
   "execution_count": 11,
   "id": "c70b9820",
   "metadata": {},
   "outputs": [
    {
     "name": "stdout",
     "output_type": "stream",
     "text": [
      "Jaccard Similarity: 0.3333333333333333\n",
      "Jaccard Distance: 0.6666666666666667\n"
     ]
    }
   ],
   "source": [
    "#jaccard distance and similarity\n",
    "\n",
    "\n",
    "def jaccard_similarity(x,y):\n",
    "    intersection = len(set(x).intersection(set(y)))\n",
    "    union = len(set(x).union(set(y)))\n",
    "    return (intersection / union)\n",
    "print(\"Jaccard Similarity:\",jaccard_similarity([0,1,2,5,6], [0,2,3,4,5,7,9]))\n",
    "print(\"Jaccard Distance:\", 1-jaccard_similarity([0,1,2,5,6],[0,2,3,4,5,7,9]))"
   ]
  },
  {
   "cell_type": "code",
   "execution_count": null,
   "id": "e7eb6479",
   "metadata": {},
   "outputs": [],
   "source": []
  }
 ],
 "metadata": {
  "kernelspec": {
   "display_name": "Python 3 (ipykernel)",
   "language": "python",
   "name": "python3"
  },
  "language_info": {
   "codemirror_mode": {
    "name": "ipython",
    "version": 3
   },
   "file_extension": ".py",
   "mimetype": "text/x-python",
   "name": "python",
   "nbconvert_exporter": "python",
   "pygments_lexer": "ipython3",
   "version": "3.8.10"
  }
 },
 "nbformat": 4,
 "nbformat_minor": 5
}
